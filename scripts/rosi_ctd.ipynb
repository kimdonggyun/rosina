{
 "cells": [
  {
   "cell_type": "code",
   "execution_count": null,
   "metadata": {},
   "outputs": [],
   "source": [
    "# combine CTD data and ROSINA data\n",
    "# this script is used to attach CTD data to the \"filtered\" ROSINA data.\n",
    "# To filter the ROSINA data, use the script \"rosi_cleanup.ipynb\"."
   ]
  },
  {
   "cell_type": "code",
   "execution_count": 56,
   "metadata": {},
   "outputs": [],
   "source": [
    "# import libraries\n",
    "import pandas as pd\n",
    "import numpy as np\n",
    "import matplotlib.pyplot as plt\n",
    "import datetime as dt\n",
    "import os\n",
    "import glob\n",
    "import re"
   ]
  },
  {
   "cell_type": "code",
   "execution_count": 79,
   "metadata": {},
   "outputs": [],
   "source": [
    "# set path to the data\n",
    "rosipath = \"/Users/dkim/Desktop/work/MSM107_analysis/data/06_ROSINA_new\"\n",
    "ctdpath = \"/Users/dkim/Desktop/work/MSM107_analysis/data/04_CTD-Idronaut\""
   ]
  },
  {
   "cell_type": "code",
   "execution_count": 81,
   "metadata": {},
   "outputs": [],
   "source": [
    "# grab the files including specific letters in the filename in the directory and subdirectories\n",
    "# and then sort the list of files\n",
    "rosifiles =  sorted(glob.glob(rosipath + \"/**/filtered_*.txt\", recursive=True))\n",
    "ctdfiles = sorted(glob.glob(ctdpath + \"/**/MSM107*-C*.txt\", recursive=True))\n",
    "# if the profile number in the file name is duplicated, then remain the first one in the list\n",
    "rosifiles = [rosifiles[i] for i in range(len(rosifiles)) if rosifiles[i].split(\"/\")[-2] not in [rosifiles[j].split(\"/\")[-2] for j in range(i)]]\n",
    "ctdfiles = [ctdfiles[i] for i in range(len(ctdfiles)) if ctdfiles[i].split(\"/\")[-2] not in [ctdfiles[j].split(\"/\")[-2] for j in range(i)]]"
   ]
  },
  {
   "cell_type": "code",
   "execution_count": 88,
   "metadata": {},
   "outputs": [
    {
     "name": "stdout",
     "output_type": "stream",
     "text": [
      "1\n",
      "2\n",
      "No CTD file for the profile number:  2\n",
      "3\n",
      "4\n",
      "5\n",
      "6\n",
      "7\n",
      "8\n",
      "9\n",
      "No CTD file for the profile number:  9\n",
      "10\n",
      "11\n",
      "12\n",
      "13\n",
      "14\n",
      "15\n",
      "16\n",
      "17\n",
      "18\n",
      "19\n",
      "20\n"
     ]
    }
   ],
   "source": [
    "# match the CTD file to the ROSINA file by using the profile number in the file name and then combine the CTD data and ROSINA data\n",
    "for i in range(len(rosifiles)):\n",
    "    # extract the profile number from the rosina file name\n",
    "    profnum = int(re.findall(r'\\d+', rosifiles[i].split(\"/\")[-1])[0])\n",
    "    print(profnum)\n",
    "    ctdfile = [ctdfiles[j] for j in range(len(ctdfiles)) if profnum == int(re.findall(r'\\d+', ctdfiles[j].split(\"/\")[-1].split(\"-\")[1])[0])]\n",
    "    if len(ctdfile) == 0:\n",
    "        print(\"No CTD file for the profile number: \", profnum)\n",
    "        continue\n",
    "    else:\n",
    "        ctdfilename = ctdfile[0]\n",
    "    \n",
    "    # 1. read the ROSINA data and CTD data\n",
    "    rosi = pd.read_csv(rosifiles[i], sep=\",\", header=0)\n",
    "    ctd = pd.read_csv(ctdfilename, sep=\"\\t\", header=16)\n",
    "\n",
    "    # 2. remove rows having NaN in the \"depth\" column in the ROSINA data\n",
    "    rosi = rosi.dropna(subset=[\"depth\"])\n",
    "    \n",
    "    # append the CTD data to the ROSINA data based on the closest depth row by row\n",
    "    for row, value in rosi.iterrows():\n",
    "        rosidepth = value[\"depth\"]\n",
    "        # find the index of closest depth in the CTD data\n",
    "        ctdindex = np.abs(ctd[\"Depth\"] - rosidepth).idxmin()\n",
    "        # append the whole columns of the CTD data to the ROSINA data using the ctdindex\n",
    "        if abs(ctd.loc[ctdindex, \"Depth\"] - rosidepth) > 5: # if the difference between the CTD depth and ROSINA depth is larger than 5 m, then append NaN\n",
    "            rosi.loc[row, ctd.columns] = np.nan\n",
    "        else:\n",
    "            rosi.loc[row, ctd.columns] = ctd.loc[ctdindex, :]\n",
    "    \n",
    "    # 3. save the combined data\n",
    "    rosi.to_csv(rosifiles[i].replace(\"filtered\", \"filtered_CTD\"), sep=\",\", index=False)\n"
   ]
  }
 ],
 "metadata": {
  "kernelspec": {
   "display_name": "MSM107",
   "language": "python",
   "name": "python3"
  },
  "language_info": {
   "codemirror_mode": {
    "name": "ipython",
    "version": 3
   },
   "file_extension": ".py",
   "mimetype": "text/x-python",
   "name": "python",
   "nbconvert_exporter": "python",
   "pygments_lexer": "ipython3",
   "version": "3.10.4"
  },
  "orig_nbformat": 4
 },
 "nbformat": 4,
 "nbformat_minor": 2
}
